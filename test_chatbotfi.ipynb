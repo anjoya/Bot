{
  "nbformat": 4,
  "nbformat_minor": 0,
  "metadata": {
    "colab": {
      "provenance": [],
      "include_colab_link": true
    },
    "kernelspec": {
      "name": "python3",
      "display_name": "Python 3"
    },
    "language_info": {
      "name": "python"
    }
  },
  "cells": [
    {
      "cell_type": "markdown",
      "metadata": {
        "id": "view-in-github",
        "colab_type": "text"
      },
      "source": [
        "<a href=\"https://colab.research.google.com/github/anjoya/Bot/blob/main/test_chatbotfi.ipynb\" target=\"_parent\"><img src=\"https://colab.research.google.com/assets/colab-badge.svg\" alt=\"Open In Colab\"/></a>"
      ]
    },
    {
      "cell_type": "code",
      "execution_count": 3,
      "metadata": {
        "colab": {
          "base_uri": "https://localhost:8080/"
        },
        "id": "-3ylY2RHRaB1",
        "outputId": "3e48c58c-ab71-41cb-c3bf-4136458c8690"
      },
      "outputs": [
        {
          "output_type": "stream",
          "name": "stdout",
          "text": [
            "Looking in indexes: https://pypi.org/simple, https://us-python.pkg.dev/colab-wheels/public/simple/\n",
            "Requirement already satisfied: nltk in /usr/local/lib/python3.9/dist-packages (3.8.1)\n",
            "Requirement already satisfied: click in /usr/local/lib/python3.9/dist-packages (from nltk) (8.1.3)\n",
            "Requirement already satisfied: regex>=2021.8.3 in /usr/local/lib/python3.9/dist-packages (from nltk) (2022.10.31)\n",
            "Requirement already satisfied: tqdm in /usr/local/lib/python3.9/dist-packages (from nltk) (4.65.0)\n",
            "Requirement already satisfied: joblib in /usr/local/lib/python3.9/dist-packages (from nltk) (1.1.1)\n",
            "Looking in indexes: https://pypi.org/simple, https://us-python.pkg.dev/colab-wheels/public/simple/\n",
            "Collecting tflearn\n",
            "  Downloading tflearn-0.5.0.tar.gz (107 kB)\n",
            "\u001b[2K     \u001b[90m━━━━━━━━━━━━━━━━━━━━━━━━━━━━━━━━━━━━━━━\u001b[0m \u001b[32m107.3/107.3 kB\u001b[0m \u001b[31m5.6 MB/s\u001b[0m eta \u001b[36m0:00:00\u001b[0m\n",
            "\u001b[?25h  Preparing metadata (setup.py) ... \u001b[?25l\u001b[?25hdone\n",
            "Requirement already satisfied: numpy in /usr/local/lib/python3.9/dist-packages (from tflearn) (1.22.4)\n",
            "Requirement already satisfied: six in /usr/local/lib/python3.9/dist-packages (from tflearn) (1.16.0)\n",
            "Requirement already satisfied: Pillow in /usr/local/lib/python3.9/dist-packages (from tflearn) (8.4.0)\n",
            "Building wheels for collected packages: tflearn\n",
            "  Building wheel for tflearn (setup.py) ... \u001b[?25l\u001b[?25hdone\n",
            "  Created wheel for tflearn: filename=tflearn-0.5.0-py3-none-any.whl size=127299 sha256=09b84c1b5294e4a837d8b4f1432107f27606e88f99871beb1252a8b5b78b0d39\n",
            "  Stored in directory: /root/.cache/pip/wheels/4a/d5/f8/9585b4a100c0fd73da204ee785457d67c85e1b9050f009a849\n",
            "Successfully built tflearn\n",
            "Installing collected packages: tflearn\n",
            "Successfully installed tflearn-0.5.0\n"
          ]
        },
        {
          "output_type": "stream",
          "name": "stderr",
          "text": [
            "WARNING:tensorflow:From /usr/local/lib/python3.9/dist-packages/tensorflow/python/compat/v2_compat.py:107: disable_resource_variables (from tensorflow.python.ops.variable_scope) is deprecated and will be removed in a future version.\n",
            "Instructions for updating:\n",
            "non-resource variables are not supported in the long term\n",
            "[nltk_data] Downloading package punkt to /root/nltk_data...\n",
            "[nltk_data]   Unzipping tokenizers/punkt.zip.\n"
          ]
        }
      ],
      "source": [
        "!pip install nltk\n",
        "!pip install tflearn\n",
        "import numpy\n",
        "import tflearn\n",
        "import tensorflow\n",
        "import random\n",
        "import json\n",
        "import nltk\n",
        "nltk.download('punkt')\n",
        "from tensorflow.python.framework import ops\n",
        "from nltk.stem.lancaster import LancasterStemmer\n",
        "stemmer = LancasterStemmer()\n"
      ]
    },
    {
      "cell_type": "code",
      "source": [
        "import json\n",
        "with open('/content/FAQs') as file:\n",
        "\n",
        "    data = json.load(file)\n",
        "print (data)"
      ],
      "metadata": {
        "colab": {
          "base_uri": "https://localhost:8080/"
        },
        "id": "VNwUkVqoR14K",
        "outputId": "56958b2e-06fc-49c8-9323-3435e11cac4e"
      },
      "execution_count": 4,
      "outputs": [
        {
          "output_type": "stream",
          "name": "stdout",
          "text": [
            "{'intents': [{'tag': 'greeting', 'patterns': ['Hi', 'How are you', 'Is anyone there?', 'Hello', 'Good day', 'Whats up'], 'responses': ['Hello!', 'Good to see you again!', 'Hi there, how can I help?'], 'context_set': ''}, {'tag': 'goodbye', 'patterns': ['cya', 'See you later', 'Goodbye', 'I am Leaving', 'Have a Good day'], 'responses': ['Sad to see you go :(', 'Talk to you later', 'Goodbye!'], 'context_set': ''}, {'tag': 'accommodation', 'patterns': ['do you offer accommodation', 'are there boarding facilities?', 'do you have hostels ?'], 'responses': ['No, we currently don’t provide accommodation. However, there are a number of private hostels along Ngong road, which are close to the school.'], 'context_set': ''}, {'tag': 'remote', 'patterns': ['Do you offer remote learning courses?', 'Are there online classes?', 'Can i take the course online?', 'Can i take virtual classes?'], 'responses': ['Moringa School’s remote classes are done live and online; with daily sessions where learners ask questions and interact with tutors and fellow students'], 'context_set': ''}, {'tag': 'data_bundles', 'patterns': ['Do students that are in the remote classes get data bundles to facilitate their studies?', 'What kind of support do remote class students get ?'], 'responses': ['Yes, students that have enrolled to our remote classes are provided with data bundles'], 'context_set': ''}, {'tag': 'price', 'patterns': ['What is the price of remote learning and in-person learning?', 'How much is the course?', 'How much are the fees?'], 'responses': ['The program pacing and course content for both remote and in-person classes are the same. For the in-person classes, students are allowed to be in our premises 2 days per week where they get to meet and interact with their trainers – for the remaining 3 days of the week you will still have live and instructor-led classes but they will be delivered online. For remote classes, all class interactions happen live and in real-time online. Remote classes cost Ksh43,000 and Ksh131,000 for Prep and Core respectively. In-person classes cost Ksh50,000 and Ksh150,000 for Prep and Core respectively.'], 'context_set': ''}, {'tag': 'difference', 'patterns': ['What is the difference between remote learning and in-person learning?'], 'responses': ['With in-person learning, we factor in the utilities and operational costs that help us maintain a great learning environment for our students while being physically present in our premises. We also pay keen attention to the spacing among students during in-person instruction to promote social distancing'], 'context_set': ''}, {'tag': 'certificate', 'patterns': ['Will I get a certificate upon completion?', 'Do i get  certificate?', 'Is there certification?'], 'responses': ['Yes, you will get a digital certificate after the successful completion of the program. A physical certificate can be printed for you at your cost.'], 'context_set': ''}, {'tag': 'programming', 'patterns': ['What if I’m not familiar with programming at all?', 'Do i need to have programming experience?', 'What if i cannot code?'], 'responses': ['Our Moringa Prep course introduces you to basic programming. This course is for beginners to learn the fundamentals of programming and for more established developers to sharpen their grasp on front-end skills. Visit the courses page to learn more.'], 'context_set': ''}, {'tag': 'job', 'patterns': ['Will I get a job after completion of the program?', 'Do you help students get jobs?', 'Am i assured of a job after?'], 'responses': ['That depends entirely on your aptitude and attitude. While we provide world-class teachers and experts to support you, the learning is on you. We put in our best and we expect you to put in yours as well. We do not guarantee jobs but we will help facilitate the process by assisting in your professional development, providing resume-writing workshops, optimising your LinkedIn profile, conducting mock interviews, and hosting recruitment drives with our employer partners.'], 'context_set': ''}, {'tag': 'financial_aid', 'patterns': ['Is financial aid available?', 'What about financial aid?', 'Can i get financial aid?'], 'responses': ['We offer financial aid to our students on a need and merit basis. The options that are currently available include partial scholarships for Moringa Prep and student loans for Moringa Core. For more information on financial aid please visit our financial aid page using this link'], 'context_set': ''}, {'tag': 'instalments', 'patterns': ['Are there installment plans ?', 'Can i pay in installments?', 'How can i pay in installmets?'], 'responses': ['All enrolling students are required to pay upfront tuition of Ksh43,000 for live online classes and KSh50,000 for hybrid in-person classes by the last Friday before a Prep class starts. Installments plans for core program are available here: https://moringaschool.com/wp-content/uploads/2022/10/Financing-Moringa-Data-Science-Part-Time-FI-Remote-Installment-Plan-DSF-PT4-May-8th-Class.docx.pdf'], 'context_set': ''}, {'tag': 'requirements', 'patterns': ['What Qualifications should one have?', 'What are the entry level requirements?'], 'responses': ['We are currently registered under TVET (Technical and Vocational Education and Training). We require all our students to have gone through high school as is required by law (TVET) and should be computer proficient.'], 'context_set': ''}, {'tag': 'certification', 'patterns': ['Do you offer certificates and are they recognised by the Kenya Government?'], 'responses': ['Moringa School is registered in Kenya by the Technical & Vocational Education and Training Authority(TVETA). However, we DO NOT offer academic qualifications that can be exchanged for credits in our local colleges and universities. We are in the process of working with TVETA to have our training standards certified which means that we will become the to-go-to when it comes to tech training standards in Kenya. Additionally, we encourage and assist our students to build their portfolios which is a better marketing tool e.g in a course like Software Development which involves coming up with independent projects that build up technical skills.'], 'context_set': ''}, {'tag': 'employment', 'patterns': ['Do you guarantee employment upon completion of this course?', 'Am i assured of employment after completion?'], 'responses': ['NO. What we guarantee is career-ready skills. Our courses are practical and relevant to the market. That is why many of our graduates find jobs. Moringa School offers support through training and informing graduates of job opportunities. Graduates then apply and some get these jobs. Other graduates have found jobs without our direct support while others have ventured into freelancing and entrepreneurship. Moringa School is proud to have helped all these brilliant young people achieve their career goals.'], 'context_set': ''}, {'tag': 'contact', 'patterns': ['How can I contact Moringa School?', 'How do I contact Moringa?', 'How can I reach out to Moringa?', 'Do Moringa have a contact?'], 'responses': ['For General Inquiries you can reach us at : +254205002167,For Admissions you can reach us at : +254207643533 You can also reach us on Whatsapp at : +254795872461'], 'context_set': ''}, {'tag': 'courses', 'patterns': ['What courses do you offer at Moringa?', 'What courses are available at Moringa?', 'What courses can I apply for at Moringa?', 'What courses do you have?'], 'responses': ['software engineering online, software engineering hybrid, software engineering part-time, data science full-time, data science part-time, product design (UI/UX) full-time, product design (UI/UX) part-time'], 'context_set': ''}, {'tag': 'courses', 'patterns': ['Do you have installment plans for prep class?', 'Are there installment plans for prep?'], 'responses': ['No, we do not offer installment plans for the Prep course but we do for the core course'], 'context_set': ''}]}\n"
          ]
        }
      ]
    },
    {
      "cell_type": "code",
      "source": [
        "words = []\n",
        "labels = []\n",
        "docs_x = []\n",
        "docs_y = []\n",
        "\n",
        "for intent in data['intents']:\n",
        "    for pattern in intent['patterns']:\n",
        "        wrds = nltk.word_tokenize(pattern)\n",
        "        words.extend(wrds)\n",
        "        docs_x.append(wrds)\n",
        "        docs_y.append(intent[\"tag\"])\n",
        "        \n",
        "    if intent['tag'] not in labels:\n",
        "        labels.append(intent['tag'])"
      ],
      "metadata": {
        "id": "XQomBGt-SH0i"
      },
      "execution_count": 5,
      "outputs": []
    },
    {
      "cell_type": "code",
      "source": [
        "words = [stemmer.stem(w.lower()) for w in words if w != \"?\"]\n",
        "words = sorted(list(set(words)))\n",
        "\n",
        "labels = sorted(labels)"
      ],
      "metadata": {
        "id": "pwjmOtwjSQHg"
      },
      "execution_count": 6,
      "outputs": []
    },
    {
      "cell_type": "code",
      "source": [
        "training = []\n",
        "output = []\n",
        "\n",
        "out_empty = [0 for _ in range(len(labels))]\n",
        "\n",
        "for x, doc in enumerate(docs_x):\n",
        "    bag = []\n",
        "\n",
        "    wrds = [stemmer.stem(w.lower()) for w in doc]\n",
        "\n",
        "    for w in words:\n",
        "        if w in wrds:\n",
        "            bag.append(1)\n",
        "        else:\n",
        "            bag.append(0)\n",
        "\n",
        "    output_row = out_empty[:]\n",
        "    output_row[labels.index(docs_y[x])] = 1\n",
        "\n",
        "    training.append(bag)\n",
        "    output.append(output_row)"
      ],
      "metadata": {
        "id": "VIw7aXfoSUTh"
      },
      "execution_count": 7,
      "outputs": []
    },
    {
      "cell_type": "code",
      "source": [
        "training = numpy.array(training)\n",
        "output = numpy.array(output)"
      ],
      "metadata": {
        "id": "-dD8zlg5SX6R"
      },
      "execution_count": 8,
      "outputs": []
    },
    {
      "cell_type": "code",
      "source": [
        "ops.reset_default_graph()\n",
        "\n",
        "net = tflearn.input_data(shape=[None, len(training[0])])\n",
        "net = tflearn.fully_connected(net, 10)\n",
        "net = tflearn.fully_connected(net, 10)\n",
        "net = tflearn.fully_connected(net, len(output[0]), activation=\"softmax\")\n",
        "net = tflearn.regression(net)\n",
        "\n",
        "model = tflearn.DNN(net)\n"
      ],
      "metadata": {
        "id": "5PMZDk8RScMY",
        "colab": {
          "base_uri": "https://localhost:8080/"
        },
        "outputId": "bb17e54b-e6c1-4c4e-e5af-a0093f2d9141"
      },
      "execution_count": 9,
      "outputs": [
        {
          "output_type": "stream",
          "name": "stderr",
          "text": [
            "WARNING:tensorflow:From /usr/local/lib/python3.9/dist-packages/tflearn/initializations.py:164: calling TruncatedNormal.__init__ (from tensorflow.python.ops.init_ops) with dtype is deprecated and will be removed in a future version.\n",
            "Instructions for updating:\n",
            "Call initializer instance with the dtype argument instead of passing it to the constructor\n"
          ]
        }
      ]
    },
    {
      "cell_type": "code",
      "source": [
        "model.fit(training, output, n_epoch=1000, batch_size=5, show_metric=True)\n"
      ],
      "metadata": {
        "id": "oVv-w7ZGVjPG",
        "outputId": "9d52ff4b-d90c-4944-a5df-4df480587923",
        "colab": {
          "base_uri": "https://localhost:8080/"
        }
      },
      "execution_count": 10,
      "outputs": [
        {
          "output_type": "stream",
          "name": "stdout",
          "text": [
            "Training Step: 1099  | total loss: \u001b[1m\u001b[32m0.54936\u001b[0m\u001b[0m | time: 0.033s\n",
            "| Adam | epoch: 100 | loss: 0.54936 - acc: 0.8326 -- iter: 50/54\n",
            "Training Step: 1100  | total loss: \u001b[1m\u001b[32m0.55535\u001b[0m\u001b[0m | time: 0.036s\n",
            "| Adam | epoch: 100 | loss: 0.55535 - acc: 0.8493 -- iter: 54/54\n",
            "--\n"
          ]
        }
      ]
    },
    {
      "cell_type": "code",
      "source": [
        "def bag_of_words(s, words):\n",
        "    bag = [0 for _ in range(len(words))]\n",
        "\n",
        "    s_words = nltk.word_tokenize(s)\n",
        "    s_words = [stemmer.stem(word.lower()) for word in s_words]\n",
        "\n",
        "    for se in s_words:\n",
        "        for i, w in enumerate(words):\n",
        "            if w == se:\n",
        "                bag[i] = 1\n",
        "            \n",
        "    return numpy.array(bag)\n",
        "\n",
        "\n",
        "def chat():\n",
        "    print(\"Hello, I am Kora,the moringa school FAQ bot (type quit to stop)!\")\n",
        "    while True:\n",
        "        inp = input(\"You: \")\n",
        "        if inp.lower() == \"quit\":\n",
        "            break\n",
        "\n",
        "        results = model.predict([bag_of_words(inp, words)])[0]\n",
        "        results_index = numpy.argmax(results)\n",
        "        tag = labels[results_index]\n",
        "\n",
        "        if results[results_index] >0.3:\n",
        "            for tg in data[\"intents\"]:\n",
        "              if tg['tag'] == tag:\n",
        "                  responses = tg['responses']\n",
        "\n",
        "            print(random.choice(responses))\n",
        "        else:\n",
        "          print('I did not understand, kindly ask another question')\n",
        "\n",
        "chat()"
      ],
      "metadata": {
        "colab": {
          "base_uri": "https://localhost:8080/"
        },
        "id": "_Y1lwgH4SvTm",
        "outputId": "5cbc535d-879b-445b-b7ca-dceb433c9ed7"
      },
      "execution_count": 11,
      "outputs": [
        {
          "name": "stdout",
          "output_type": "stream",
          "text": [
            "Hello, I am Kora,the moringa school FAQ bot (type quit to stop)!\n",
            "You: hi\n",
            "Good to see you again!\n",
            "You: free\n",
            "I did not understand, kindly ask another question\n",
            "You: how much\n",
            "The program pacing and course content for both remote and in-person classes are the same. For the in-person classes, students are allowed to be in our premises 2 days per week where they get to meet and interact with their trainers – for the remaining 3 days of the week you will still have live and instructor-led classes but they will be delivered online. For remote classes, all class interactions happen live and in real-time online. Remote classes cost Ksh43,000 and Ksh131,000 for Prep and Core respectively. In-person classes cost Ksh50,000 and Ksh150,000 for Prep and Core respectively.\n",
            "You: part\n",
            "I did not understand, kindly ask another question\n",
            "You: part time\n",
            "I did not understand, kindly ask another question\n",
            "You: quit\n"
          ]
        }
      ]
    }
  ]
}